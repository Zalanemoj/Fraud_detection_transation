{
 "cells": [
  {
   "cell_type": "code",
   "execution_count": 1,
   "id": "91ba9e1e-ff05-4af9-94b7-99c5b23d9691",
   "metadata": {},
   "outputs": [],
   "source": [
    "import pickle \n",
    "import pandas as pd\n",
    "import numpy as np\n",
    "from sklearn.model_selection import GridSearchCV\n",
    "from sklearn.metrics import classification_report, confusion_matrix, roc_auc_score\n",
    "import seaborn as sns\n",
    "import matplotlib.pyplot as plt"
   ]
  },
  {
   "cell_type": "code",
   "execution_count": 2,
   "id": "854f7d52-ccb9-4059-b6a6-33d1bf64832a",
   "metadata": {},
   "outputs": [],
   "source": [
    "new_transactions = {\n",
    "    'step': [744, 744, 745, 745],\n",
    "    'type': ['PAYMENT', 'TRANSFER', 'CASH_OUT', 'CASH_OUT'],\n",
    "    'amount': [1850.75, 2500000.00, 220000.00, 4500000.00],\n",
    "    'oldbalanceOrg': [45000.00, 2500000.00, 500000.00, 4500000.00],\n",
    "    'newbalanceOrig': [43149.25, 0.0, 280000.00, 0.0],\n",
    "    'oldbalanceDest': [12000.00, 0.0, 750000.00, 50000.00],\n",
    "    'newbalanceDest': [13850.75, 2500000.00, 970000.00, 4550000.00]\n",
    "}"
   ]
  },
  {
   "cell_type": "code",
   "execution_count": 3,
   "id": "e1d71109-66f8-459c-9607-f22e7e565148",
   "metadata": {},
   "outputs": [],
   "source": [
    "prediction_data = pd.DataFrame(new_transactions)"
   ]
  },
  {
   "cell_type": "code",
   "execution_count": 4,
   "id": "3f22ca3f-e1e5-488f-a63a-0d26e8fea46d",
   "metadata": {},
   "outputs": [],
   "source": [
    "with open('Sclar.pkl','rb') as file:\n",
    "    sclar=pickle.load(file)\n",
    "\n",
    "with open('Encoder.pkl','rb') as file:\n",
    "    encoder=pickle.load(file)\n",
    "\n",
    "with open('Model_Fraud_Detection.pkl','rb') as file:\n",
    "    model=pickle.load(file)"
   ]
  },
  {
   "cell_type": "code",
   "execution_count": 5,
   "id": "4afc3928-fc2c-48db-949c-facf98942def",
   "metadata": {},
   "outputs": [],
   "source": [
    "encoded_prediction_data = encoder.transform(prediction_data[['type']])\n",
    "new_column_names = encoder.get_feature_names_out(['type'])\n",
    "encoded_prediction_data_df = pd.DataFrame(encoded_prediction_data, columns=new_column_names, index=prediction_data.index)\n",
    "prediction_data = pd.concat([prediction_data.drop('type', axis=1), encoded_prediction_data_df], axis=1)"
   ]
  },
  {
   "cell_type": "code",
   "execution_count": 6,
   "id": "5336ed04-069d-4138-9368-bcdc3116bd20",
   "metadata": {},
   "outputs": [],
   "source": [
    "cols_to_scale = ['step','amount', 'oldbalanceOrg', 'newbalanceOrig', 'oldbalanceDest', 'newbalanceDest']\n",
    "\n",
    "prediction_data[cols_to_scale]=sclar.transform(prediction_data[cols_to_scale])"
   ]
  },
  {
   "cell_type": "code",
   "execution_count": 8,
   "id": "f8f29e3e-54f3-4f1c-bdc3-877a74769f02",
   "metadata": {},
   "outputs": [
    {
     "name": "stdout",
     "output_type": "stream",
     "text": [
      "[0 1 0 1]\n"
     ]
    }
   ],
   "source": [
    "pred=model.predict(prediction_data)\n",
    "\n",
    "print(pred)"
   ]
  }
 ],
 "metadata": {
  "kernelspec": {
   "display_name": "default:Python",
   "language": "python",
   "name": "conda-env-default-py"
  },
  "language_info": {
   "codemirror_mode": {
    "name": "ipython",
    "version": 3
   },
   "file_extension": ".py",
   "mimetype": "text/x-python",
   "name": "python",
   "nbconvert_exporter": "python",
   "pygments_lexer": "ipython3",
   "version": "3.9.23"
  }
 },
 "nbformat": 4,
 "nbformat_minor": 5
}
